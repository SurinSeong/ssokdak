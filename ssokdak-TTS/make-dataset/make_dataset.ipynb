{
 "cells": [
  {
   "cell_type": "code",
   "execution_count": 1,
   "id": "d2a61719",
   "metadata": {},
   "outputs": [
    {
     "name": "stdout",
     "output_type": "stream",
     "text": [
      "'C:/Users/SSAFY/Downloads/archive/kss/1'의 .wav 파일이 'C:/Users/SSAFY/Desktop/git-repos/ssokdak/tts-coqui/korean-single-speaker-datasets/wavs'로 이동되었습니다.\n",
      "'C:/Users/SSAFY/Downloads/archive/kss/2'의 .wav 파일이 'C:/Users/SSAFY/Desktop/git-repos/ssokdak/tts-coqui/korean-single-speaker-datasets/wavs'로 이동되었습니다.\n",
      "'C:/Users/SSAFY/Downloads/archive/kss/3'의 .wav 파일이 'C:/Users/SSAFY/Desktop/git-repos/ssokdak/tts-coqui/korean-single-speaker-datasets/wavs'로 이동되었습니다.\n",
      "'C:/Users/SSAFY/Downloads/archive/kss/4'의 .wav 파일이 'C:/Users/SSAFY/Desktop/git-repos/ssokdak/tts-coqui/korean-single-speaker-datasets/wavs'로 이동되었습니다.\n"
     ]
    }
   ],
   "source": [
    "import os\n",
    "import shutil\n",
    "\n",
    "# 대상 폴더 경로 (새로 생성될 wavs 폴더)\n",
    "destination_folder = \"C:/Users/SSAFY/Desktop/git-repos/ssokdak/tts-coqui/korean-single-speaker-datasets/wavs\"\n",
    "\n",
    "for num in [1, 2, 3, 4]:\n",
    "    # 원본 폴더 경로\n",
    "    source_folder = f\"C:/Users/SSAFY/Downloads/archive/kss/{num}\"\n",
    "\n",
    "    # 원본 폴더의 모든 파일 순회\n",
    "    for filename in os.listdir(source_folder):\n",
    "        # .wav 파일인 경우에만 이동\n",
    "        if filename.endswith(\".wav\"):\n",
    "            source_path = os.path.join(source_folder, filename)\n",
    "            destination_path = os.path.join(destination_folder, filename)\n",
    "            # 파일 이동\n",
    "            shutil.move(source_path, destination_path)\n",
    "\n",
    "    print(f\"'{source_folder}'의 .wav 파일이 '{destination_folder}'로 이동되었습니다.\")"
   ]
  }
 ],
 "metadata": {
  "kernelspec": {
   "display_name": "nlp",
   "language": "python",
   "name": "python3"
  },
  "language_info": {
   "codemirror_mode": {
    "name": "ipython",
    "version": 3
   },
   "file_extension": ".py",
   "mimetype": "text/x-python",
   "name": "python",
   "nbconvert_exporter": "python",
   "pygments_lexer": "ipython3",
   "version": "3.10.18"
  }
 },
 "nbformat": 4,
 "nbformat_minor": 5
}
