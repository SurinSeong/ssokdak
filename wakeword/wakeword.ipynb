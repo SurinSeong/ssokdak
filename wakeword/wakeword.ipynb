{
 "cells": [
  {
   "cell_type": "code",
   "execution_count": 1,
   "id": "463e2ab0",
   "metadata": {},
   "outputs": [
    {
     "name": "stdout",
     "output_type": "stream",
     "text": [
      "# conda environments:\n",
      "#\n",
      "a103                     /home/j-i13a103/.conda/envs/a103\n",
      "llm                      /home/j-i13a103/.conda/envs/llm\n",
      "stt                      /home/j-i13a103/.conda/envs/stt\n",
      "tts                      /home/j-i13a103/.conda/envs/tts\n",
      "wakeword                 /home/j-i13a103/.conda/envs/wakeword\n",
      "base                     /opt/tljh/user\n",
      "\n",
      "\n",
      "Note: you may need to restart the kernel to use updated packages.\n"
     ]
    }
   ],
   "source": [
    "%conda env list"
   ]
  },
  {
   "cell_type": "code",
   "execution_count": 2,
   "id": "892ca9d7",
   "metadata": {},
   "outputs": [
    {
     "name": "stdout",
     "output_type": "stream",
     "text": [
      "/home/j-i13a103/.conda/envs/wakeword/bin/python\n",
      "3.9.23 | packaged by conda-forge | (main, Jun  4 2025, 17:57:12) \n",
      "[GCC 13.3.0]\n"
     ]
    }
   ],
   "source": [
    "import sys\n",
    "\n",
    "print(sys.executable)\n",
    "print(sys.version)"
   ]
  },
  {
   "cell_type": "code",
   "execution_count": 3,
   "id": "f9496f42",
   "metadata": {},
   "outputs": [],
   "source": [
    "import os\n",
    "\n",
    "os.environ[\"CUDA_VISIBLE_DEVICES\"] = \"2\""
   ]
  },
  {
   "cell_type": "code",
   "execution_count": 4,
   "id": "20511039",
   "metadata": {},
   "outputs": [
    {
     "name": "stdout",
     "output_type": "stream",
     "text": [
      "True\n",
      "Tesla V100-PCIE-32GB\n"
     ]
    }
   ],
   "source": [
    "import torch\n",
    "\n",
    "print(torch.cuda.is_available())\n",
    "print(torch.cuda.get_device_name(0))"
   ]
  },
  {
   "cell_type": "code",
   "execution_count": null,
   "id": "ca5e7348",
   "metadata": {},
   "outputs": [],
   "source": [
    "# 필요한 라이브러리 로드\n",
    "\n",
    "from tqdm import tqdm\n",
    "from natsort import natsorted\n",
    "from IPython.display import Audio\n",
    "import copy\n",
    "import random\n",
    "import cv2\n",
    "import matplotlib.pyplot as plt\n",
    "\n",
    "import torch.optim as optim\n",
    "from torch.optim.lr_scheduler import StepLR\n",
    "from sklearn.metrics import accuracy_score\n",
    "import wave\n",
    "import shutil"
   ]
  },
  {
   "cell_type": "code",
   "execution_count": 6,
   "id": "e29bde05",
   "metadata": {},
   "outputs": [
    {
     "name": "stdout",
     "output_type": "stream",
     "text": [
      "현재 가상환경 cuda 설정 가능\n"
     ]
    }
   ],
   "source": [
    "if torch.cuda.is_available() == True:\n",
    "    device = \"cuda:0\"\n",
    "    print(\"현재 가상환경 cuda 설정 가능\")\n",
    "\n",
    "else:\n",
    "    device = \"cpu\"\n",
    "    print(\"현재 가상환경 cpu 사용\")"
   ]
  },
  {
   "cell_type": "code",
   "execution_count": null,
   "id": "57614cd0",
   "metadata": {},
   "outputs": [],
   "source": [
    "# LSTM 웨이크워드 인식 모델 구조\n",
    "import torch\n",
    "import torch.nn as nn\n",
    "\n",
    "class WakeWordLSTM(nn.Module):\n",
    "    def __init__(self, input_dim=40, hidden_dim=128, num_layers=4, dropout=0.3):\n",
    "        super(WakeWordLSTM, self).__init__()\n",
    "        self.lstm = nn.LSTM(\n",
    "            input_dim, hidden_dim, num_layers=num_layers,\n",
    "            batch_first=True, dropout=dropout, bidirectional=True\n",
    "        )\n",
    "        self.fc = nn.Linear(hidden_dim * 2, 1)    # bidirectional 이기 때문에 *2\n",
    "        self.sigmoid = nn.Sigmoid()\n",
    "\n",
    "    def forward(self, x):\n",
    "        # x: [batch_size, time, features] = [B, T, 40]\n",
    "        out, _ = self.lstm(x)    # out: [B, T, H*2]\n",
    "        out = out[:, -1, :]    # 마지막 timestep 사용\n",
    "        out = self.fc(out)\n",
    "        return self.sigmoid(out).squeeze(1)"
   ]
  },
  {
   "cell_type": "code",
   "execution_count": 8,
   "id": "b805b60f",
   "metadata": {},
   "outputs": [
    {
     "name": "stdout",
     "output_type": "stream",
     "text": [
      "torch.Size([16])\n"
     ]
    }
   ],
   "source": [
    "model = WakeWordLSTM()\n",
    "sample_input = torch.randn(16, 80, 40)\n",
    "output = model(sample_input)\n",
    "print(output.shape)"
   ]
  },
  {
   "cell_type": "code",
   "execution_count": 9,
   "id": "d206eff1",
   "metadata": {},
   "outputs": [
    {
     "data": {
      "text/plain": [
       "tensor([0.5112, 0.5112, 0.5118, 0.5105, 0.5108, 0.5118, 0.5116, 0.5104, 0.5112,\n",
       "        0.5118, 0.5115, 0.5113, 0.5119, 0.5103, 0.5110, 0.5119],\n",
       "       grad_fn=<SqueezeBackward1>)"
      ]
     },
     "execution_count": 9,
     "metadata": {},
     "output_type": "execute_result"
    }
   ],
   "source": [
    "output"
   ]
  },
  {
   "cell_type": "markdown",
   "id": "4ae34199",
   "metadata": {},
   "source": [
    "### 모델 학습을 위한 데이터 전처리"
   ]
  },
  {
   "cell_type": "code",
   "execution_count": 10,
   "id": "1d24e507",
   "metadata": {},
   "outputs": [],
   "source": [
    "import librosa\n",
    "import numpy as np\n",
    "\n",
    "# mel-spectrogram 변환 함수\n",
    "def wav_to_mel(path, sr=16000, n_mels=40):\n",
    "    y, _ = librosa.load(path, sr=sr)\n",
    "    mel = librosa.feature.melspectrogram(\n",
    "        y=y, sr=sr, n_mels=n_mels, n_fft=512, hop_length=160, win_length=400\n",
    "    )\n",
    "    mel_db = librosa.power_to_db(mel, ref=np.max)\n",
    "    mel_db = mel_db.T  # [time, n_mels]\n",
    "    return mel_db"
   ]
  },
  {
   "cell_type": "code",
   "execution_count": 11,
   "id": "457a8346",
   "metadata": {},
   "outputs": [],
   "source": [
    "# pytorch Dataset 클래스\n",
    "import os\n",
    "import torch\n",
    "from torch.utils.data import Dataset\n",
    "\n",
    "class WakeWordDataset(Dataset):\n",
    "    def __init__(self, root_dir, max_len=80):\n",
    "        self.data = []\n",
    "        self.max_len = max_len\n",
    "        for label, subfolder in enumerate(['negative', 'positive']):\n",
    "            folder = os.path.join(root_dir, subfolder)\n",
    "            for fname in os.listdir(folder):\n",
    "                if fname.endswith(\".wav\"):\n",
    "                    path = os.path.join(folder, fname)\n",
    "                    self.data.append((path, label))\n",
    "\n",
    "    def __len__(self):\n",
    "        return len(self.data)\n",
    "\n",
    "    def __getitem__(self, idx):\n",
    "        path, label = self.data[idx]\n",
    "        mel = wav_to_mel(path)  # [T, 40]\n",
    "        # 길이 맞추기\n",
    "        if mel.shape[0] > self.max_len:\n",
    "            mel = mel[:self.max_len]\n",
    "        else:\n",
    "            pad = self.max_len - mel.shape[0]\n",
    "            mel = np.pad(mel, ((0, pad), (0, 0)), mode='constant')\n",
    "\n",
    "        mel_tensor = torch.tensor(mel, dtype=torch.float32)\n",
    "        label_tensor = torch.tensor(label, dtype=torch.float32)\n",
    "        return mel_tensor, label_tensor\n"
   ]
  },
  {
   "cell_type": "code",
   "execution_count": null,
   "id": "8c6aade4",
   "metadata": {},
   "outputs": [],
   "source": [
    "from torch.utils.data import DataLoader\n",
    "import torch.nn as nn\n",
    "import torch\n",
    "\n",
    "# 학습 코드\n",
    "def train(model, dataset_path, epochs=3, batch_size=16):\n",
    "    dataset = WakeWordDataset(dataset_path)\n",
    "    loader = DataLoader(dataset, batch_size=batch_size, shuffle=True)\n",
    "\n",
    "    optimizer = torch.optim.Adam(model.parameters(), lr=1e-4)\n",
    "    criterion = nn.BCELoss()\n",
    "\n",
    "    model.train()\n",
    "    for epoch in range(epochs):\n",
    "        total_loss = 0\n",
    "        for x, y in loader:\n",
    "            pred = model(x)\n",
    "            loss = criterion(pred, y)\n",
    "            optimizer.zero_grad()\n",
    "            loss.backward()\n",
    "            optimizer.step()\n",
    "            total_loss += loss.item()\n",
    "        print(f\"Epoch {epoch+1} Loss: {total_loss:.4f}\")\n",
    "\n",
    "    torch.save(model.state_dict(), \"wakeword_finetuned.pth\")\n"
   ]
  }
 ],
 "metadata": {
  "kernelspec": {
   "display_name": "Python (wakeword)",
   "language": "python",
   "name": "wakeword"
  },
  "language_info": {
   "codemirror_mode": {
    "name": "ipython",
    "version": 3
   },
   "file_extension": ".py",
   "mimetype": "text/x-python",
   "name": "python",
   "nbconvert_exporter": "python",
   "pygments_lexer": "ipython3",
   "version": "3.9.23"
  }
 },
 "nbformat": 4,
 "nbformat_minor": 5
}
