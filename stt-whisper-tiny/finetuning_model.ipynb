{
 "cells": [
  {
   "cell_type": "markdown",
   "id": "c024858b",
   "metadata": {},
   "source": [
    "## 데이터 전처리\n",
    "\n",
    "- Huggingface의 datasets 라이브러리를 이용해서 Whisper 학습 포맷으로 바꾼다."
   ]
  },
  {
   "cell_type": "code",
   "execution_count": null,
   "id": "cb4324da",
   "metadata": {},
   "outputs": [],
   "source": [
    "from datasets import load_dataset, Dataset\n",
    "import os\n",
    "\n",
    "def load_custom_dataset(data_dir):\n",
    "    data = []\n",
    "    for filename in os.listdir(data_dir):\n",
    "        if filename.endswith(\".wav\"):\n",
    "            txt_file = filename.replace(\".wav\", \".txt\")\n",
    "            with open(os.path.join(data_dir, txt_file), 'r', encoding='utf-8') as f:\n",
    "                text = f.read().strip()\n",
    "            data.append({\n",
    "                \"path\": os.path.join(data_dir, filename),\n",
    "                \"audio\": {\"path\": os.path.join(data_dir, filename)},\n",
    "                \"sentence\": text\n",
    "            })\n",
    "    return Dataset.from_list(data)\n"
   ]
  },
  {
   "cell_type": "markdown",
   "id": "b129d5f8",
   "metadata": {},
   "source": [
    "## 모델 불러오기"
   ]
  },
  {
   "cell_type": "code",
   "execution_count": null,
   "id": "ff6ef71e",
   "metadata": {},
   "outputs": [],
   "source": [
    "from transformers import WhisperProcessor, WhisperForConditionalGeneration\n",
    "\n",
    "model_name = \"openai/whisper-tiny\"\n",
    "processor = WhisperProcessor.from_pretrained(model_name)\n",
    "model = WhisperForConditionalGeneration.from_pretrained(model_name)"
   ]
  },
  {
   "cell_type": "markdown",
   "id": "3bd4118e",
   "metadata": {},
   "source": [
    "## 파인튜닝하기"
   ]
  },
  {
   "cell_type": "code",
   "execution_count": null,
   "id": "9cfd591d",
   "metadata": {},
   "outputs": [],
   "source": [
    "from transformers import Seq2SeqTrainer, Seq2SeqTrainingArguments\n",
    "\n",
    "training_args = Seq2SeqTrainingArguments(\n",
    "    output_dir=\"./whisper-finetuned-kids\",\n",
    "    per_device_train_batch_size=8,\n",
    "    gradient_accumulation_steps=2,\n",
    "    evaluation_strategy=\"steps\",\n",
    "    learning_rate=1e-5,\n",
    "    save_steps=500,\n",
    "    logging_steps=100,\n",
    "    num_train_epochs=5,\n",
    "    predict_with_generate=True,\n",
    "    generation_max_length=128,\n",
    "    fp16=True,  # GPU 사용 시\n",
    "    push_to_hub=False,\n",
    ")\n",
    "\n",
    "trainer = Seq2SeqTrainer(\n",
    "    args=training_args,\n",
    "    model=model,\n",
    "    train_dataset=train_dataset,\n",
    "    eval_dataset=eval_dataset,\n",
    "    tokenizer=processor.feature_extractor,\n",
    "    data_collator=whisper_data_collator,\n",
    ")\n",
    "\n",
    "trainer.train()\n"
   ]
  }
 ],
 "metadata": {
  "language_info": {
   "name": "python"
  }
 },
 "nbformat": 4,
 "nbformat_minor": 5
}
