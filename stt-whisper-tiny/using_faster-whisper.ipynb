{
 "cells": [
  {
   "cell_type": "code",
   "execution_count": null,
   "id": "7bff24c8",
   "metadata": {},
   "outputs": [],
   "source": [
    "import os\n",
    "import time\n",
    "from faster_whisper import WhisperModel\n",
    "\n",
    "os.environ[\"HF_HUB_DISABLE_SYMLINKS_WARNING\"] = \"true\"\n",
    "os.environ[\"KMP_DUPLICATE_LIB_OK\"] = \"TRUE\"\n",
    "\n",
    "\n",
    "# tiny, tiny.en, base, base.en, small, small.en, medium, medium.en, large-v1, large-v2, large-v3, or large\n",
    "model_size = \"tiny\"\n",
    "\n",
    "\n",
    "# Run on GPU with FP16\n",
    "# model = WhisperModel(model_size, device=\"cpu\", compute_type=\"float16\")\n",
    "\n",
    "# or run on GPU with INT8\n",
    "# model = WhisperModel(model_size, device=\"cuda\", compute_type=\"int8_float16\")\n",
    "# or run on CPU with INT8\n",
    "model = WhisperModel(model_size, device=\"cpu\", compute_type=\"int8\")\n",
    "\n",
    "\n",
    "segments, info = model.transcribe(\"RealTime_STT_with_Whisper/test_audio/0.wav\", beam_size=5, word_timestamps=True, no_speech_threshold=0.4)\n",
    "# for segment in segments: print(segment, end='\\n\\n')\n",
    "\n",
    "\n",
    "\n",
    "\n",
    "\n",
    "# print(\"Detected language '%s' with probability %f\" % (info.language, info.language_probability))\n",
    "\n",
    "\n",
    "dic_list = []\n",
    "for segment in segments:\n",
    "    no_speech_prob = segment.no_speech_prob\n",
    "    words_with_timestamps = []\n",
    "    for word in segment.words:\n",
    "        _word = word.word\n",
    "        _start = word.start\n",
    "        _end = word.end\n",
    "        dic_list.append([_word, _start, _end, no_speech_prob])\n",
    "\n",
    "print(dic_list)"
   ]
  }
 ],
 "metadata": {
  "language_info": {
   "name": "python"
  }
 },
 "nbformat": 4,
 "nbformat_minor": 5
}
