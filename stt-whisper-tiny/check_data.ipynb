{
 "cells": [
  {
   "cell_type": "markdown",
   "id": "47e46747",
   "metadata": {},
   "source": [
    "# 한국어 아동 음성 데이터셋 확인하기"
   ]
  },
  {
   "cell_type": "code",
   "execution_count": 1,
   "id": "5ddd81b1",
   "metadata": {},
   "outputs": [
    {
     "data": {
      "text/plain": [
       "'/home/j-i13a103'"
      ]
     },
     "execution_count": 1,
     "metadata": {},
     "output_type": "execute_result"
    }
   ],
   "source": [
    "%pwd"
   ]
  },
  {
   "cell_type": "code",
   "execution_count": 2,
   "id": "5aabc696",
   "metadata": {},
   "outputs": [
    {
     "name": "stdout",
     "output_type": "stream",
     "text": [
      "\u001b[0m\u001b[01;34m'자유대화(소아남여,_유아_등_혼합)'\u001b[0m/       data_preprocessing_llm.ipynb\n",
      " \u001b[01;34m감정이_태깅된_자유대화_청소년\u001b[0m/           model_first.ipynb\n",
      " \u001b[01;34m청소년_상담_데이터\u001b[0m/                      \u001b[01;34mtts\u001b[0m/\n",
      " \u001b[01;34m한국어_아동_음성_데이터\u001b[0m/                 Untitled1.ipynb\n",
      " \u001b[01;34m감성_및_발화_스타일별_음성합성_데이터\u001b[0m/   Untitled.ipynb\n",
      " \u001b[01;32maihubshell\u001b[0m*                              \u001b[01;34mwakeword\u001b[0m/\n"
     ]
    }
   ],
   "source": [
    "%ls"
   ]
  },
  {
   "cell_type": "code",
   "execution_count": null,
   "id": "8b5f3ed5",
   "metadata": {},
   "outputs": [],
   "source": [
    "# 아동 음성 데이터셋 폴더 경로 설정\n",
    "\n",
    "folder_path = \"/home/j-i13a103/한국어_아동_음성_데이터\""
   ]
  }
 ],
 "metadata": {
  "kernelspec": {
   "display_name": "Python (stt)",
   "language": "python",
   "name": "stt"
  },
  "language_info": {
   "codemirror_mode": {
    "name": "ipython",
    "version": 3
   },
   "file_extension": ".py",
   "mimetype": "text/x-python",
   "name": "python",
   "nbconvert_exporter": "python",
   "pygments_lexer": "ipython3",
   "version": "3.10.18"
  }
 },
 "nbformat": 4,
 "nbformat_minor": 5
}
